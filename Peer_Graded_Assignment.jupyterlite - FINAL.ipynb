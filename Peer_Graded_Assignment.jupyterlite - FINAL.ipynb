{
  "metadata": {
    "kernelspec": {
      "name": "python",
      "display_name": "Python (Pyodide)",
      "language": "python"
    },
    "language_info": {
      "codemirror_mode": {
        "name": "python",
        "version": 3
      },
      "file_extension": ".py",
      "mimetype": "text/x-python",
      "name": "python",
      "nbconvert_exporter": "python",
      "pygments_lexer": "ipython3",
      "version": "3.8"
    }
  },
  "nbformat_minor": 4,
  "nbformat": 4,
  "cells": [
    {
      "cell_type": "markdown",
      "source": "<p style=\"text-align:center\">\n    <a href=\"https://skills.network/?utm_medium=Exinfluencer&utm_source=Exinfluencer&utm_content=000026UJ&utm_term=10006555&utm_id=NA-SkillsNetwork-Channel-SkillsNetworkCoursesIBMDeveloperSkillsNetworkST0151ENSkillsNetwork20531532-2022-01-01\" target=\"_blank\">\n    <img src=\"https://cf-courses-data.s3.us.cloud-object-storage.appdomain.cloud/assets/logos/SN_web_lightmode.png\" width=\"200\" alt=\"Skills Network Logo\"  />\n    </a>\n</p>\n\n",
      "metadata": {}
    },
    {
      "cell_type": "markdown",
      "source": "#### Import the required libraries we need for the lab.\n",
      "metadata": {}
    },
    {
      "cell_type": "code",
      "source": "import piplite\nawait piplite.install(['numpy'],['pandas'])\nawait piplite.install(['seaborn'])",
      "metadata": {},
      "outputs": [],
      "execution_count": null
    },
    {
      "cell_type": "code",
      "source": "import pandas as pd\nimport pandas as pd\nimport seaborn as sns\nimport matplotlib.pyplot as pyplot\nimport scipy.stats\nimport statsmodels.api as sm\nfrom statsmodels.formula.api import ols",
      "metadata": {},
      "outputs": [],
      "execution_count": null
    },
    {
      "cell_type": "markdown",
      "source": "#### Read the dataset in the csv file from the URL\n",
      "metadata": {}
    },
    {
      "cell_type": "code",
      "source": "from js import fetch\nimport io\n\nURL = 'https://cf-courses-data.s3.us.cloud-object-storage.appdomain.cloud/IBMDeveloperSkillsNetwork-ST0151EN-SkillsNetwork/labs/boston_housing.csv'\nresp = await fetch(URL)\nboston_url = io.BytesIO((await resp.arrayBuffer()).to_py())",
      "metadata": {},
      "outputs": [],
      "execution_count": null
    },
    {
      "cell_type": "code",
      "source": "boston_df=pd.read_csv(boston_url)",
      "metadata": {},
      "outputs": [],
      "execution_count": null
    },
    {
      "cell_type": "markdown",
      "source": "#### Add your code below following the instructions given in the course to complete the peer graded assignment\n",
      "metadata": {}
    },
    {
      "cell_type": "code",
      "source": "boston_df",
      "metadata": {},
      "outputs": [],
      "execution_count": null
    },
    {
      "cell_type": "code",
      "source": "boston_df.info()",
      "metadata": {
        "trusted": true
      },
      "outputs": [],
      "execution_count": null
    },
    {
      "cell_type": "code",
      "source": "import seaborn as sns\nimport matplotlib.pyplot as plt\n\n# Boxplot for MEDV\nplt.figure(figsize=(8, 6))\nsns.boxplot(y=boston_df['MEDV'])\nplt.title('Boxplot of Median Value of Owner-Occupied Homes (MEDV)')\nplt.ylabel('Median Value (in $1000\\'s)')\nplt.show()\n\n\n# Bar plot for CHAS\nplt.figure(figsize=(8, 6))\nsns.countplot(x=boston_df['CHAS'])\nplt.title('Bar Plot of Homes Bounded by the Charles River')\nplt.xlabel('Charles River (0 = No, 1 = Yes)')\nplt.ylabel('Number of Homes')\nplt.show()\n\n\n# Discretizing AGE\nboston_df['AGE_Group'] = pd.cut(boston_df['AGE'], bins=[0, 35, 70, 100], labels=['<= 35 years', '35-70 years', '> 70 years'])\n\n# Boxplot for MEDV vs AGE_Group\nplt.figure(figsize=(8, 6))\nsns.boxplot(x='AGE_Group', y='MEDV', data=boston_df)\nplt.title('Boxplot of Median Home Value (MEDV) vs Age Group of Homes')\nplt.xlabel('Age Group of Homes')\nplt.ylabel('Median Value (in $1000\\'s)')\nplt.show()\n\n\n# Scatter plot for NOX vs INDUS\nplt.figure(figsize=(8, 6))\nsns.scatterplot(x='INDUS', y='NOX', data=boston_df)\nplt.title('Relationship Between NOX and INDUS')\nplt.xlabel('Proportion of Non-Retail Business Acres (INDUS)')\nplt.ylabel('Nitric Oxide Concentration (NOX)')\nplt.show()\n\n\n# Histogram for PTRATIO\nplt.figure(figsize=(8, 6))\nplt.hist(boston_df['PTRATIO'], bins=10, edgecolor='black')\nplt.title('Histogram of Pupil-Teacher Ratio')\nplt.xlabel('Pupil-Teacher Ratio')\nplt.ylabel('Frequency')\nplt.show()",
      "metadata": {
        "trusted": true
      },
      "outputs": [],
      "execution_count": null
    },
    {
      "cell_type": "code",
      "source": "#Is there a significant difference in median value of houses bounded by the Charles river or not? (T-test for independent samples)\nfrom scipy import stats\n\n# Split data based on CHAS (1 if bounded by river, 0 otherwise)\nchas_1 = boston_df[boston_df['CHAS'] == 1]['MEDV']\nchas_0 = boston_df[boston_df['CHAS'] == 0]['MEDV']\n\n# Perform t-test for independent samples\nt_stat, p_value = stats.ttest_ind(chas_1, chas_0, equal_var=False)\n\n# Output the result\nt_stat, p_value",
      "metadata": {
        "trusted": true
      },
      "outputs": [],
      "execution_count": null
    },
    {
      "cell_type": "code",
      "source": "#Is there a difference in Median values of houses (MEDV) for each proportion of owner occupied units built prior to 1940 (AGE)? (ANOVA)\n# Perform ANOVA test\nf_stat, p_value = stats.f_oneway(\n    boston_df[boston_df['AGE_Group'] == '<= 35 years']['MEDV'],\n    boston_df[boston_df['AGE_Group'] == '35-70 years']['MEDV'],\n    boston_df[boston_df['AGE_Group'] == '> 70 years']['MEDV']\n)\n\n# Output the result\nf_stat, p_value",
      "metadata": {
        "trusted": true
      },
      "outputs": [],
      "execution_count": null
    },
    {
      "cell_type": "code",
      "source": "#Can we conclude that there is no relationship between Nitric oxide concentrations and proportion of non-retail business acres per town? (Pearson Correlation)\n# Perform Pearson correlation test\ncorr, p_value = stats.pearsonr(boston_df['NOX'], boston_df['INDUS'])\n\n# Output the result\ncorr, p_value",
      "metadata": {
        "trusted": true
      },
      "outputs": [],
      "execution_count": null
    },
    {
      "cell_type": "code",
      "source": "#What is the impact of an additional weighted distance  to the five Boston employment centres on the median value of owner occupied homes? (Regression analysis)\nimport statsmodels.api as sm\n\n# Independent variable (DIS) and dependent variable (MEDV)\nX = boston_df['DIS']\ny = boston_df['MEDV']\n\n# Add a constant to the independent variable (for intercept in regression)\nX = sm.add_constant(X)\n\n# Perform the regression analysis\nmodel = sm.OLS(y, X).fit()\n\n# Output the result\nmodel.summary()",
      "metadata": {
        "trusted": true
      },
      "outputs": [],
      "execution_count": null
    }
  ]
}